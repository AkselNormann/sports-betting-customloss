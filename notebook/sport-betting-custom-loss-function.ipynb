{
 "cells": [
  {
   "cell_type": "markdown",
   "metadata": {
    "colab_type": "text",
    "id": "pbDhbSwnDth-"
   },
   "source": [
    "# Notebook for training a Keras Neural Network on Betting Data\n",
    "This notebook will contain the code for training a neural network with keras on the betting data using a custom loss function. The details of the features in the data are in the info.pdf file in the same repo. "
   ]
  },
  {
   "cell_type": "code",
   "execution_count": 1,
   "metadata": {
    "colab": {},
    "colab_type": "code",
    "id": "xSVJACHlDtiB"
   },
   "outputs": [
    {
     "name": "stderr",
     "output_type": "stream",
     "text": [
      "Using TensorFlow backend.\n"
     ]
    }
   ],
   "source": [
    "from keras.layers import BatchNormalization, Dense, Input, Dropout\n",
    "from keras.optimizers import Nadam\n",
    "from keras.models import Model\n",
    "from keras import backend as K\n",
    "import pandas as pd\n",
    "import numpy as np\n",
    "from sklearn.model_selection import train_test_split\n",
    "from keras.callbacks import EarlyStopping, ModelCheckpoint\n",
    "import matplotlib.pyplot as plt"
   ]
  },
  {
   "cell_type": "markdown",
   "metadata": {
    "colab_type": "text",
    "id": "rlWvA3BeDtiG"
   },
   "source": [
    "The data should be in the same directory as shown here"
   ]
  },
  {
   "cell_type": "code",
   "execution_count": 2,
   "metadata": {
    "colab": {
     "base_uri": "https://localhost:8080/",
     "height": 34
    },
    "colab_type": "code",
    "id": "L7SSgE7SDtiG",
    "outputId": "8bb42dce-b055-4a93-b76d-d40c0fa1b56a"
   },
   "outputs": [
    {
     "name": "stdout",
     "output_type": "stream",
     "text": [
      "1706.02275.pdf\t\t\t   mjpro150_linux.zip\r\n",
      "1707.05821.pdf\t\t\t   odds_loss.hdf5\r\n",
      "1707.06658.pdf\t\t\t   output.pdf\r\n",
      "Cracking the Coding Interview.pdf  Policy Gradient Algorithms.pdf\r\n",
      "extract-2018-12-13.csv\t\t   Psych.The.Movie.2017.720p.mkv\r\n",
      "main (2).ipynb\t\t\t   sutton.pdf\r\n"
     ]
    }
   ],
   "source": [
    "!ls"
   ]
  },
  {
   "cell_type": "code",
   "execution_count": 3,
   "metadata": {
    "colab": {},
    "colab_type": "code",
    "id": "xbL539JLDtiM"
   },
   "outputs": [],
   "source": [
    "def get_data():\n",
    "    data = pd.read_csv('extract-2018-12-13.csv')\n",
    "    X = data.values[:, 5:-5]\n",
    "    y = data.values[:, -1]\n",
    "    y_full = np.zeros((X.shape[0], 8))\n",
    "    for i, y_i in enumerate(y):\n",
    "        if y_i == 1:\n",
    "            y_full[i, 0] = 1.0\n",
    "            y_full[i, 1] = 1.0\n",
    "        if y_i == 2:\n",
    "            y_full[i, 2] = 1.0\n",
    "            y_full[i, 3] = 1.0\n",
    "        if y_i == 3:\n",
    "            y_full[i, 1] = 1.0\n",
    "            y_full[i, 3] = 1.0\n",
    "            y_full[i, 4] = 1.0\n",
    "        y_full[i, 6] = X[i, 1]\n",
    "        y_full[i, 7] = X[i, 2]\n",
    "    return X, y_full, y\n",
    "X, y, outcome = get_data()\n",
    "\n",
    "def get_prediction_data(y_true):\n",
    "    win_home_team = y_true[:, 0:1]\n",
    "    win_home_or_draw = y_true[:, 1:2]\n",
    "    win_away = y_true[:, 2:3]\n",
    "    win_away_or_draw = y_true[:, 3:4]\n",
    "    draw = y_true[:, 4:5]\n",
    "    no_bet = y_true[:, 5:6]\n",
    "    odds_a = y_true[:, 6:7]\n",
    "    odds_b = y_true[:, 7:8]\n",
    "    gain_loss_vector = np.concatenate([win_home_team * (odds_a - 1) + (1 - win_home_team) * -1,\n",
    "                                      win_home_or_draw * (1/(1 -1/odds_b) - 1) + (1 - win_home_or_draw) * -1,\n",
    "                                      win_away * (odds_b - 1) + (1 - win_away) * -1,\n",
    "                                      win_away_or_draw * (1/(1 -1/odds_a) - 1) + (1 - win_away_or_draw) * -1,\n",
    "                                      draw * (1/(1 - 1/odds_a - 1/odds_b) - 1) + (1 - draw) * -1,\n",
    "                                      np.zeros_like(odds_a)], axis=1)\n",
    "    no_leak_glv = np.concatenate([(odds_a - 1),\n",
    "                                  (1/(1 -1/odds_b) - 1),\n",
    "                                  (odds_b - 1),\n",
    "                                  (1/(1 -1/odds_a) - 1),\n",
    "                                  (1/(1 - 1/odds_a - 1/odds_b) - 1)], axis=1)\n",
    "    new_y = np.zeros((y_true.shape[0], y_true.shape[1]-2))\n",
    "    for i, glv in enumerate(gain_loss_vector):\n",
    "        new_y[i, glv.argmax()] = 1.0\n",
    "    return gain_loss_vector, new_y, no_leak_glv\n",
    "\n",
    "gain_loss_vector, new_y, no_leak_glv = get_prediction_data(y)"
   ]
  },
  {
   "cell_type": "markdown",
   "metadata": {
    "colab_type": "text",
    "id": "7SW99rf6EOo2"
   },
   "source": [
    "The above code gives the X and y for the odds loss, additionally we get the no_leak_glv, what I mean by no leak is it does not contain any information about the actual outcome but just possible winnings for each outcome. "
   ]
  },
  {
   "cell_type": "code",
   "execution_count": 4,
   "metadata": {
    "colab": {
     "base_uri": "https://localhost:8080/",
     "height": 306
    },
    "colab_type": "code",
    "id": "jwW0-kn6DtiO",
    "outputId": "502a038b-5e9c-4d27-c739-4517b98aef6a"
   },
   "outputs": [
    {
     "name": "stdout",
     "output_type": "stream",
     "text": [
      "With additonal features\n",
      "0.9916666666666667\n",
      "0.55\n",
      "Feature importances : [0.04581722 0.05402328 0.05367424 0.02098776 0.04331359 0.01356037\n",
      " 0.02675272 0.01591664 0.03556197 0.04427366 0.02566678 0.01541214\n",
      " 0.02560674 0.02191783 0.03790197 0.02011781 0.04880423 0.03827283\n",
      " 0.0423973  0.02485422 0.04881956 0.10833417 0.04872406 0.03414503\n",
      " 0.05575162 0.04939226]\n",
      "\n",
      "\n",
      "Without additonal features\n",
      "1.0\n",
      "0.275\n",
      "Feature importances : [0.0401269  0.06071934 0.04621368 0.06574522 0.03394687 0.0521623\n",
      " 0.05775605 0.02946841 0.05948217 0.05695543 0.04202192 0.03607767\n",
      " 0.04496742 0.03636612 0.03787615 0.05063802 0.05952197 0.03580556\n",
      " 0.04983352 0.04331904 0.06099624]\n"
     ]
    },
    {
     "name": "stderr",
     "output_type": "stream",
     "text": [
      "/media/ganesh/Generic/Anaconda3/envs/tf/lib/python3.6/site-packages/sklearn/ensemble/weight_boosting.py:29: DeprecationWarning: numpy.core.umath_tests is an internal NumPy module and should not be imported. It will be removed in a future NumPy release.\n",
      "  from numpy.core.umath_tests import inner1d\n"
     ]
    }
   ],
   "source": [
    "from sklearn.ensemble import RandomForestClassifier\n",
    "from sklearn.metrics import accuracy_score\n",
    "\n",
    "clf = RandomForestClassifier(n_estimators=15)\n",
    "rfx = X.copy()\n",
    "rfx1 = np.concatenate([rfx, no_leak_glv], axis=1)\n",
    "rfy = new_y.copy()\n",
    "\n",
    "rfx1, rfx1_t, rfy, rfy_t, y, y_t = train_test_split(rfx1, rfy, y)\n",
    "rfx, rfx_t = train_test_split(rfx)\n",
    "\n",
    "clf.fit(rfx1, rfy.argmax(axis=1))\n",
    "rfpred_t = clf.predict(rfx1_t)\n",
    "rfpred = clf.predict(rfx1)\n",
    "\n",
    "print('With additonal features')\n",
    "print(accuracy_score(rfpred, rfy.argmax(axis=1)))\n",
    "print(accuracy_score(rfpred_t, rfy_t.argmax(axis=1)))\n",
    "\n",
    "print('Feature importances : {}'.format(clf.feature_importances_))\n",
    "\n",
    "clf.fit(rfx, rfy.argmax(axis=1))\n",
    "rfpred_t = clf.predict(rfx_t)\n",
    "rfpred = clf.predict(rfx)\n",
    "\n",
    "print('\\n\\nWithout additonal features')\n",
    "print(accuracy_score(rfpred, rfy.argmax(axis=1)))\n",
    "print(accuracy_score(rfpred_t, rfy_t.argmax(axis=1)))\n",
    "print('Feature importances : {}'.format(clf.feature_importances_))"
   ]
  },
  {
   "cell_type": "markdown",
   "metadata": {
    "colab_type": "text",
    "id": "PZN7T7a5ElkS"
   },
   "source": [
    "The random forest code above serves little purpose to the training of our model. I added this for a few reasons. Firstly I do the train_test_split here. It can be done later also. Next I wanted to see if the no_leak_glv gives an improvement. Which it does for most splits. Finally if you run clf.feature_importances_ you can see the percentage importance for each feature and you can see that the additional features do have importance. "
   ]
  },
  {
   "cell_type": "code",
   "execution_count": 5,
   "metadata": {
    "colab": {
     "base_uri": "https://localhost:8080/",
     "height": 34
    },
    "colab_type": "code",
    "id": "N1BtpFVHDtiR",
    "outputId": "8fcff25a-fc11-42f6-9171-6a46cb10f432"
   },
   "outputs": [
    {
     "name": "stdout",
     "output_type": "stream",
     "text": [
      "-0.35000002\n"
     ]
    }
   ],
   "source": [
    "def odds_loss(y_true, y_pred):\n",
    "    \"\"\"\n",
    "    The function implements the custom loss function mentioned in info.pdf\n",
    "    \n",
    "    Inputs\n",
    "    true : a vector of dimension batch_size, 7. A label encoded version of the output and the backp1_a and backp1_b\n",
    "    pred : a vector of probabilities of dimension batch_size , 5.\n",
    "    \n",
    "    Returns \n",
    "    the loss value\n",
    "    \"\"\"\n",
    "    win_home_team = y_true[:, 0:1]\n",
    "    win_home_or_draw = y_true[:, 1:2]\n",
    "    win_away = y_true[:, 2:3]\n",
    "    win_away_or_draw = y_true[:, 3:4]\n",
    "    draw = y_true[:, 4:5]\n",
    "    no_bet = y_true[:, 5:6]\n",
    "    odds_a = y_true[:, 6:7]\n",
    "    odds_b = y_true[:, 7:8]\n",
    "    gain_loss_vector = K.concatenate([win_home_team * (odds_a - 1) + (1 - win_home_team) * -1,\n",
    "                                      win_home_or_draw * (1/(1 -1/odds_b) - 1) + (1 - win_home_or_draw) * -1,\n",
    "                                      win_away * (odds_b - 1) + (1 - win_away) * -1,\n",
    "                                      win_away_or_draw * (1/(1 -1/odds_a) - 1) + (1 - win_away_or_draw) * -1,\n",
    "                                      draw * (1/(1 - 1/odds_a - 1/odds_b) - 1) + (1 - draw) * -1,\n",
    "                                      K.zeros_like(odds_a)], axis=1)\n",
    "    return -1 * K.mean(K.sum(gain_loss_vector * y_pred, axis=1))\n",
    " \n",
    "true = K.variable(np.array([[1, 1, 0, 0, 0, 0, 2.0, 3.0]]), dtype='float32')\n",
    "pred = K.variable(np.array([[0.6, 0.1, 0.2, 0.05, 0.05, 0.0]]), dtype='float32')\n",
    "print(K.eval(odds_loss(true, pred)))"
   ]
  },
  {
   "cell_type": "markdown",
   "metadata": {
    "colab_type": "text",
    "id": "5p5E84thFlZG"
   },
   "source": [
    "The above is the odds loss as described in the pdf sent to me. It measures the profit or loss average over the input for a unit stake. "
   ]
  },
  {
   "cell_type": "code",
   "execution_count": 6,
   "metadata": {
    "colab": {
     "base_uri": "https://localhost:8080/",
     "height": 1737
    },
    "colab_type": "code",
    "id": "eMFrES1dDtiU",
    "outputId": "31cf3a1c-004c-471c-a639-16911ae4cb78"
   },
   "outputs": [
    {
     "name": "stdout",
     "output_type": "stream",
     "text": [
      "Train on 120 samples, validate on 40 samples\n",
      "Epoch 1/200\n",
      "120/120 [==============================] - 1s 9ms/step - loss: 0.1712 - val_loss: 0.0897\n",
      "Epoch 2/200\n",
      "120/120 [==============================] - 0s 820us/step - loss: 0.0042 - val_loss: 0.0902\n",
      "Epoch 3/200\n",
      "120/120 [==============================] - 0s 825us/step - loss: 0.0952 - val_loss: 0.0917\n",
      "Epoch 4/200\n",
      "120/120 [==============================] - 0s 794us/step - loss: 0.0975 - val_loss: 0.0975\n",
      "Epoch 5/200\n",
      "120/120 [==============================] - 0s 860us/step - loss: 0.0803 - val_loss: 0.1031\n",
      "Epoch 6/200\n",
      "120/120 [==============================] - 0s 853us/step - loss: 0.1354 - val_loss: 0.1055\n",
      "Epoch 7/200\n",
      "120/120 [==============================] - 0s 870us/step - loss: 0.0517 - val_loss: 0.1014\n",
      "Epoch 8/200\n",
      "120/120 [==============================] - 0s 809us/step - loss: 0.0491 - val_loss: 0.1021\n",
      "Epoch 9/200\n",
      "120/120 [==============================] - 0s 790us/step - loss: 0.0632 - val_loss: 0.1015\n",
      "Epoch 10/200\n",
      "120/120 [==============================] - 0s 849us/step - loss: 0.0369 - val_loss: 0.1013\n",
      "Epoch 11/200\n",
      "120/120 [==============================] - 0s 843us/step - loss: -0.0193 - val_loss: 0.0974\n",
      "Epoch 12/200\n",
      "120/120 [==============================] - 0s 852us/step - loss: 0.0593 - val_loss: 0.0981\n",
      "Epoch 13/200\n",
      "120/120 [==============================] - 0s 807us/step - loss: 0.0608 - val_loss: 0.0999\n",
      "Epoch 14/200\n",
      "120/120 [==============================] - 0s 834us/step - loss: 0.0031 - val_loss: 0.0978\n",
      "Epoch 15/200\n",
      "120/120 [==============================] - 0s 846us/step - loss: 0.0356 - val_loss: 0.0976\n",
      "Epoch 16/200\n",
      "120/120 [==============================] - 0s 865us/step - loss: 0.0663 - val_loss: 0.0968\n",
      "Epoch 17/200\n",
      "120/120 [==============================] - 0s 762us/step - loss: 0.0031 - val_loss: 0.0936\n",
      "Epoch 18/200\n",
      "120/120 [==============================] - 0s 818us/step - loss: -0.0804 - val_loss: 0.0917\n",
      "Epoch 19/200\n",
      "120/120 [==============================] - 0s 769us/step - loss: 0.0025 - val_loss: 0.0929\n",
      "Epoch 20/200\n",
      "120/120 [==============================] - 0s 842us/step - loss: 0.0550 - val_loss: 0.0922\n",
      "Epoch 21/200\n",
      "120/120 [==============================] - 0s 811us/step - loss: -0.0317 - val_loss: 0.0894\n",
      "Epoch 22/200\n",
      "120/120 [==============================] - 0s 813us/step - loss: 0.0281 - val_loss: 0.0857\n",
      "Epoch 23/200\n",
      "120/120 [==============================] - 0s 821us/step - loss: 0.0244 - val_loss: 0.0826\n",
      "Epoch 24/200\n",
      "120/120 [==============================] - 0s 879us/step - loss: -0.0329 - val_loss: 0.0850\n",
      "Epoch 25/200\n",
      "120/120 [==============================] - 0s 852us/step - loss: -0.0151 - val_loss: 0.0868\n",
      "Epoch 26/200\n",
      "120/120 [==============================] - 0s 830us/step - loss: 0.0036 - val_loss: 0.0866\n",
      "Epoch 27/200\n",
      "120/120 [==============================] - 0s 818us/step - loss: -0.0105 - val_loss: 0.0842\n",
      "Epoch 28/200\n",
      "120/120 [==============================] - 0s 840us/step - loss: 0.0326 - val_loss: 0.0829\n",
      "Epoch 29/200\n",
      "120/120 [==============================] - 0s 846us/step - loss: 0.0393 - val_loss: 0.0814\n",
      "Epoch 30/200\n",
      "120/120 [==============================] - 0s 847us/step - loss: -0.0025 - val_loss: 0.0778\n",
      "Epoch 31/200\n",
      "120/120 [==============================] - 0s 785us/step - loss: 0.0125 - val_loss: 0.0781\n",
      "Epoch 32/200\n",
      "120/120 [==============================] - 0s 858us/step - loss: 0.0083 - val_loss: 0.0779\n",
      "Epoch 33/200\n",
      "120/120 [==============================] - 0s 815us/step - loss: 0.0349 - val_loss: 0.0808\n",
      "Epoch 34/200\n",
      "120/120 [==============================] - 0s 798us/step - loss: -0.0150 - val_loss: 0.0821\n",
      "Epoch 35/200\n",
      "120/120 [==============================] - 0s 874us/step - loss: 0.0121 - val_loss: 0.0805\n",
      "Epoch 36/200\n",
      "120/120 [==============================] - 0s 816us/step - loss: 8.9871e-04 - val_loss: 0.0775\n",
      "Epoch 37/200\n",
      "120/120 [==============================] - 0s 1ms/step - loss: 0.0108 - val_loss: 0.0774\n",
      "Epoch 38/200\n",
      "120/120 [==============================] - 0s 950us/step - loss: -0.0095 - val_loss: 0.0778\n",
      "Epoch 39/200\n",
      "120/120 [==============================] - 0s 932us/step - loss: 0.0081 - val_loss: 0.0781\n",
      "Epoch 40/200\n",
      "120/120 [==============================] - 0s 1ms/step - loss: 0.0081 - val_loss: 0.0749\n",
      "Epoch 41/200\n",
      "120/120 [==============================] - 0s 963us/step - loss: -0.0122 - val_loss: 0.0760\n",
      "Epoch 42/200\n",
      "120/120 [==============================] - 0s 982us/step - loss: -0.0094 - val_loss: 0.0743\n",
      "Epoch 43/200\n",
      "120/120 [==============================] - 0s 984us/step - loss: 0.0102 - val_loss: 0.0778\n",
      "Epoch 44/200\n",
      "120/120 [==============================] - 0s 992us/step - loss: -0.0306 - val_loss: 0.0792\n",
      "Epoch 45/200\n",
      "120/120 [==============================] - 0s 1ms/step - loss: -0.0191 - val_loss: 0.0799\n",
      "Epoch 46/200\n",
      "120/120 [==============================] - 0s 1ms/step - loss: 0.0138 - val_loss: 0.0829\n",
      "Epoch 47/200\n",
      "120/120 [==============================] - 0s 1ms/step - loss: -0.0023 - val_loss: 0.0858\n",
      "Epoch 48/200\n",
      "120/120 [==============================] - 0s 989us/step - loss: 0.0026 - val_loss: 0.0873\n",
      "Epoch 49/200\n",
      "120/120 [==============================] - 0s 1ms/step - loss: -0.0074 - val_loss: 0.0884\n",
      "Epoch 50/200\n",
      "120/120 [==============================] - 0s 980us/step - loss: 0.0278 - val_loss: 0.0893\n",
      "Epoch 51/200\n",
      "120/120 [==============================] - 0s 867us/step - loss: -0.0093 - val_loss: 0.0868\n",
      "Epoch 52/200\n",
      "120/120 [==============================] - 0s 882us/step - loss: -0.0518 - val_loss: 0.0835\n",
      "Epoch 53/200\n",
      "120/120 [==============================] - 0s 1ms/step - loss: 0.0072 - val_loss: 0.0809\n",
      "Epoch 54/200\n",
      "120/120 [==============================] - 0s 932us/step - loss: 0.0079 - val_loss: 0.0792\n",
      "Epoch 55/200\n",
      "120/120 [==============================] - 0s 847us/step - loss: 0.0170 - val_loss: 0.0792\n",
      "Epoch 56/200\n",
      "120/120 [==============================] - 0s 894us/step - loss: -0.0415 - val_loss: 0.0855\n",
      "Epoch 57/200\n",
      "120/120 [==============================] - 0s 826us/step - loss: 0.0282 - val_loss: 0.0876\n",
      "Epoch 58/200\n",
      "120/120 [==============================] - 0s 779us/step - loss: -0.0066 - val_loss: 0.0885\n",
      "Epoch 59/200\n",
      "120/120 [==============================] - 0s 810us/step - loss: 0.0043 - val_loss: 0.0893\n",
      "Epoch 60/200\n",
      "120/120 [==============================] - 0s 891us/step - loss: 0.0356 - val_loss: 0.0880\n",
      "Epoch 61/200\n",
      "120/120 [==============================] - 0s 883us/step - loss: -0.0967 - val_loss: 0.0903\n",
      "Epoch 62/200\n",
      "120/120 [==============================] - 0s 880us/step - loss: -0.0397 - val_loss: 0.0913\n",
      "Epoch 63/200\n",
      "120/120 [==============================] - 0s 912us/step - loss: 0.0588 - val_loss: 0.0935\n",
      "Epoch 64/200\n",
      "120/120 [==============================] - 0s 840us/step - loss: -0.0139 - val_loss: 0.0911\n",
      "Epoch 65/200\n",
      "120/120 [==============================] - 0s 822us/step - loss: 0.0427 - val_loss: 0.0892\n",
      "Epoch 66/200\n",
      "120/120 [==============================] - 0s 855us/step - loss: -0.0154 - val_loss: 0.0908\n",
      "Epoch 67/200\n",
      "120/120 [==============================] - 0s 804us/step - loss: -0.0513 - val_loss: 0.0912\n",
      "Epoch 68/200\n",
      "120/120 [==============================] - 0s 843us/step - loss: 0.0109 - val_loss: 0.0931\n",
      "Epoch 69/200\n",
      "120/120 [==============================] - 0s 864us/step - loss: 0.0163 - val_loss: 0.0943\n",
      "Epoch 70/200\n",
      "120/120 [==============================] - 0s 988us/step - loss: -0.0047 - val_loss: 0.0956\n",
      "Epoch 71/200\n",
      "120/120 [==============================] - 0s 797us/step - loss: -0.0116 - val_loss: 0.0952\n",
      "Epoch 72/200\n",
      "120/120 [==============================] - 0s 869us/step - loss: -0.0757 - val_loss: 0.0942\n",
      "Epoch 73/200\n",
      "120/120 [==============================] - 0s 900us/step - loss: -0.0087 - val_loss: 0.0964\n",
      "Epoch 74/200\n",
      "120/120 [==============================] - 0s 838us/step - loss: -0.0116 - val_loss: 0.0957\n",
      "Epoch 75/200\n",
      "120/120 [==============================] - 0s 1ms/step - loss: -0.0036 - val_loss: 0.0985\n",
      "Epoch 76/200\n",
      "120/120 [==============================] - 0s 1ms/step - loss: 0.0093 - val_loss: 0.0982\n",
      "Epoch 77/200\n",
      "120/120 [==============================] - 0s 1ms/step - loss: 0.0528 - val_loss: 0.0988\n",
      "Epoch 78/200\n",
      "120/120 [==============================] - 0s 1ms/step - loss: 0.0072 - val_loss: 0.0989\n",
      "Epoch 79/200\n"
     ]
    },
    {
     "name": "stdout",
     "output_type": "stream",
     "text": [
      "120/120 [==============================] - 0s 1ms/step - loss: 0.0177 - val_loss: 0.0995\n",
      "Epoch 80/200\n",
      "120/120 [==============================] - 0s 992us/step - loss: -0.0392 - val_loss: 0.1003\n",
      "Epoch 81/200\n",
      "120/120 [==============================] - 0s 852us/step - loss: -0.0119 - val_loss: 0.1002\n",
      "Epoch 82/200\n",
      "120/120 [==============================] - 0s 866us/step - loss: -0.0021 - val_loss: 0.0985\n",
      "Epoch 83/200\n",
      "120/120 [==============================] - 0s 882us/step - loss: -0.0419 - val_loss: 0.0967\n",
      "Epoch 84/200\n",
      "120/120 [==============================] - 0s 836us/step - loss: -0.0462 - val_loss: 0.1013\n",
      "Epoch 85/200\n",
      "120/120 [==============================] - 0s 988us/step - loss: -0.0123 - val_loss: 0.1016\n",
      "Epoch 86/200\n",
      "120/120 [==============================] - 0s 875us/step - loss: 0.0276 - val_loss: 0.1008\n",
      "Epoch 87/200\n",
      "120/120 [==============================] - 0s 872us/step - loss: -0.0396 - val_loss: 0.1004\n",
      "Epoch 88/200\n",
      "120/120 [==============================] - 0s 825us/step - loss: -0.0457 - val_loss: 0.1016\n",
      "Epoch 89/200\n",
      "120/120 [==============================] - 0s 800us/step - loss: 0.0133 - val_loss: 0.1015\n",
      "Epoch 90/200\n",
      "120/120 [==============================] - 0s 783us/step - loss: -0.0230 - val_loss: 0.1016\n",
      "Epoch 91/200\n",
      "120/120 [==============================] - 0s 840us/step - loss: -0.0182 - val_loss: 0.1030\n",
      "Epoch 92/200\n",
      "120/120 [==============================] - 0s 768us/step - loss: -0.0143 - val_loss: 0.1048\n",
      "Epoch 93/200\n",
      "120/120 [==============================] - 0s 809us/step - loss: -0.0078 - val_loss: 0.1055\n",
      "Epoch 94/200\n",
      "120/120 [==============================] - 0s 848us/step - loss: 0.0325 - val_loss: 0.1054\n",
      "Epoch 95/200\n",
      "120/120 [==============================] - 0s 804us/step - loss: -0.0186 - val_loss: 0.1054\n",
      "Epoch 96/200\n",
      "120/120 [==============================] - 0s 876us/step - loss: -0.0315 - val_loss: 0.1072\n",
      "Epoch 97/200\n",
      "120/120 [==============================] - 0s 875us/step - loss: -0.0149 - val_loss: 0.1069\n",
      "Epoch 98/200\n",
      "120/120 [==============================] - 0s 792us/step - loss: -0.0202 - val_loss: 0.1005\n",
      "Epoch 99/200\n",
      "120/120 [==============================] - 0s 819us/step - loss: 0.0200 - val_loss: 0.0990\n",
      "Epoch 100/200\n",
      "120/120 [==============================] - 0s 841us/step - loss: 0.0120 - val_loss: 0.0997\n",
      "Epoch 101/200\n",
      "120/120 [==============================] - 0s 795us/step - loss: -0.0390 - val_loss: 0.1009\n",
      "Epoch 102/200\n",
      "120/120 [==============================] - 0s 819us/step - loss: 0.0606 - val_loss: 0.1008\n",
      "Epoch 103/200\n",
      "120/120 [==============================] - 0s 950us/step - loss: 0.0040 - val_loss: 0.1009\n",
      "Epoch 104/200\n",
      "120/120 [==============================] - 0s 1ms/step - loss: -0.0295 - val_loss: 0.1046\n",
      "Epoch 105/200\n",
      "120/120 [==============================] - 0s 981us/step - loss: -0.0079 - val_loss: 0.1035\n",
      "Epoch 106/200\n",
      "120/120 [==============================] - 0s 933us/step - loss: -0.0273 - val_loss: 0.1020\n",
      "Epoch 107/200\n",
      "120/120 [==============================] - 0s 890us/step - loss: 0.0344 - val_loss: 0.0983\n",
      "Epoch 108/200\n",
      "120/120 [==============================] - 0s 849us/step - loss: -0.0394 - val_loss: 0.1000\n",
      "Epoch 109/200\n",
      "120/120 [==============================] - 0s 819us/step - loss: -0.0270 - val_loss: 0.0995\n",
      "Epoch 110/200\n",
      "120/120 [==============================] - 0s 855us/step - loss: -0.0140 - val_loss: 0.0942\n",
      "Epoch 111/200\n",
      "120/120 [==============================] - 0s 906us/step - loss: -0.0448 - val_loss: 0.0905\n",
      "Epoch 112/200\n",
      "120/120 [==============================] - 0s 899us/step - loss: -0.0761 - val_loss: 0.0940\n",
      "Epoch 113/200\n",
      "120/120 [==============================] - 0s 878us/step - loss: 0.0263 - val_loss: 0.0966\n",
      "Epoch 114/200\n",
      "120/120 [==============================] - 0s 822us/step - loss: -0.0039 - val_loss: 0.0995\n",
      "Epoch 115/200\n",
      "120/120 [==============================] - 0s 837us/step - loss: -0.0253 - val_loss: 0.1037\n",
      "Epoch 116/200\n",
      "120/120 [==============================] - 0s 887us/step - loss: -0.0018 - val_loss: 0.1027\n",
      "Epoch 117/200\n",
      "120/120 [==============================] - 0s 928us/step - loss: 0.0087 - val_loss: 0.1015\n",
      "Epoch 118/200\n",
      "120/120 [==============================] - 0s 1ms/step - loss: 0.0126 - val_loss: 0.0998\n",
      "Epoch 119/200\n",
      "120/120 [==============================] - 0s 1ms/step - loss: -0.0600 - val_loss: 0.0999\n",
      "Epoch 120/200\n",
      "120/120 [==============================] - 0s 892us/step - loss: -0.0325 - val_loss: 0.0986\n",
      "Epoch 121/200\n",
      "120/120 [==============================] - 0s 900us/step - loss: -0.0545 - val_loss: 0.0967\n",
      "Epoch 122/200\n",
      "120/120 [==============================] - 0s 893us/step - loss: -0.0197 - val_loss: 0.0961\n",
      "Epoch 123/200\n",
      "120/120 [==============================] - 0s 910us/step - loss: 0.0093 - val_loss: 0.0986\n",
      "Epoch 124/200\n",
      "120/120 [==============================] - 0s 880us/step - loss: -0.0253 - val_loss: 0.0986\n",
      "Epoch 125/200\n",
      "120/120 [==============================] - 0s 860us/step - loss: -0.0504 - val_loss: 0.0989\n",
      "Epoch 126/200\n",
      "120/120 [==============================] - 0s 902us/step - loss: -0.0336 - val_loss: 0.0990\n",
      "Epoch 127/200\n",
      "120/120 [==============================] - 0s 899us/step - loss: -0.0040 - val_loss: 0.0994\n",
      "Epoch 128/200\n",
      "120/120 [==============================] - 0s 1ms/step - loss: -0.0444 - val_loss: 0.1001\n",
      "Epoch 129/200\n",
      "120/120 [==============================] - 0s 873us/step - loss: 0.0198 - val_loss: 0.1042\n",
      "Epoch 130/200\n",
      "120/120 [==============================] - 0s 956us/step - loss: -0.0120 - val_loss: 0.1050\n",
      "Epoch 131/200\n",
      "120/120 [==============================] - 0s 857us/step - loss: -0.0268 - val_loss: 0.1014\n",
      "Epoch 132/200\n",
      "120/120 [==============================] - 0s 866us/step - loss: 0.0017 - val_loss: 0.1001\n",
      "Epoch 133/200\n",
      "120/120 [==============================] - 0s 859us/step - loss: 0.0277 - val_loss: 0.1004\n",
      "Epoch 134/200\n",
      "120/120 [==============================] - 0s 914us/step - loss: -0.0568 - val_loss: 0.0980\n",
      "Epoch 135/200\n",
      "120/120 [==============================] - 0s 933us/step - loss: -0.0380 - val_loss: 0.0988\n",
      "Epoch 136/200\n",
      "120/120 [==============================] - 0s 889us/step - loss: -0.0354 - val_loss: 0.1020\n",
      "Epoch 137/200\n",
      "120/120 [==============================] - 0s 846us/step - loss: -0.0172 - val_loss: 0.1009\n",
      "Epoch 138/200\n",
      "120/120 [==============================] - 0s 934us/step - loss: -0.0589 - val_loss: 0.1007\n",
      "Epoch 139/200\n",
      "120/120 [==============================] - 0s 1ms/step - loss: 0.0141 - val_loss: 0.1000\n",
      "Epoch 140/200\n",
      "120/120 [==============================] - 0s 944us/step - loss: -0.0091 - val_loss: 0.0998\n",
      "Epoch 141/200\n",
      "120/120 [==============================] - 0s 1ms/step - loss: -0.0636 - val_loss: 0.1021\n",
      "Epoch 142/200\n",
      "120/120 [==============================] - 0s 980us/step - loss: -0.0376 - val_loss: 0.1009\n"
     ]
    }
   ],
   "source": [
    "def get_model(input_dim, output_dim, base=1000, multiplier=0.25, p=0.2):\n",
    "    inputs = Input(shape=(input_dim,))\n",
    "    l = BatchNormalization()(inputs)\n",
    "    l = Dropout(p)(l)\n",
    "    n = base\n",
    "    l = Dense(n, activation='relu')(l)\n",
    "    l = BatchNormalization()(l)\n",
    "    l = Dropout(p)(l)\n",
    "    n = int(n * multiplier)\n",
    "    l = Dense(n, activation='relu')(l)\n",
    "    l = BatchNormalization()(l)\n",
    "    l = Dropout(p)(l)\n",
    "    n = int(n * multiplier)\n",
    "    l = Dense(n, activation='relu')(l)\n",
    "    outputs = Dense(output_dim, activation='softmax')(l)\n",
    "    model = Model(inputs=inputs, outputs=outputs)\n",
    "    model.compile(optimizer=Nadam(1e-4), loss=odds_loss)\n",
    "    return model\n",
    "\n",
    "model = get_model(26, 6, 1000, 0.9, 0.8)\n",
    "history = model.fit(rfx1, y, validation_data=(rfx1_t, y_t),\n",
    "          epochs=200, batch_size=10, callbacks=[EarlyStopping(patience=100),\n",
    "                                                ModelCheckpoint('odds_loss.hdf5',\n",
    "                                                                save_best_only=True)])"
   ]
  },
  {
   "cell_type": "markdown",
   "metadata": {
    "colab_type": "text",
    "id": "u8tlEYflGaDW"
   },
   "source": [
    "A few things to mention about the training and the model. \n",
    "\n",
    "\n",
    "*   The hyper parameters for the model such as dropout, multiplier and base were found by monitoring the validation loss. I tried to find values which made sure the training loss didn't drastically go down while the validation loss stayed the same. \n",
    "*   Next the choice of optimizer isn't that important. Adam or Nadam works best in my experience. They do a lot of things internally to make sure training is fast and generalization is decent. \n",
    "*   As for the loss which seems to be fluctuating for training that is mostly a fault with how keras shows it. It takes the mean over each batch but doesn't account for the changes in the model after each update. To see actual value you have to evaluate as in the next cell. \n",
    "*   As for P/L, the loss is the P/L value averaged over all the events. \n",
    "* the odds_loss.hdf5 file is a checkpoint of the model. After the training for later use you can run the below to load.\n",
    "\n",
    "```\n",
    "from keras.models import load_model\n",
    "model = load_model('odds_loss.hdf5')\n",
    "```"
   ]
  },
  {
   "cell_type": "code",
   "execution_count": 7,
   "metadata": {
    "colab": {
     "base_uri": "https://localhost:8080/",
     "height": 85
    },
    "colab_type": "code",
    "id": "lGjXgqAODtiX",
    "outputId": "10aa8183-8ec8-45dc-f026-0bc2e3414e2b"
   },
   "outputs": [
    {
     "name": "stdout",
     "output_type": "stream",
     "text": [
      "120/120 [==============================] - 0s 67us/step\n",
      "40/40 [==============================] - 0s 304us/step\n",
      "Training Loss : -0.0146282859146595\n",
      "Validation Loss : 0.1008823573589325\n"
     ]
    }
   ],
   "source": [
    "print('Training Loss : {}\\nValidation Loss : {}'.format(model.evaluate(rfx1, y), model.evaluate(rfx1_t, y_t)))"
   ]
  },
  {
   "cell_type": "code",
   "execution_count": 8,
   "metadata": {
    "colab": {},
    "colab_type": "code",
    "id": "zhVtww38GTV3"
   },
   "outputs": [
    {
     "data": {
      "image/png": "[encoded data removed]",
      "text/plain": [
       "<Figure size 1080x720 with 1 Axes>"
      ]
     },
     "metadata": {
      "needs_background": "light"
     },
     "output_type": "display_data"
    }
   ],
   "source": [
    "val_loss = history.history['val_loss']\n",
    "train_loss = history.history['loss']\n",
    "plt.figure(figsize=(15,10))\n",
    "plt.plot(list(range(len(val_loss))), val_loss, label='val_loss')\n",
    "plt.plot(list(range(len(train_loss))), train_loss, label='train_loss')\n",
    "plt.legend(loc='upper left')\n",
    "plt.show()"
   ]
  },
  {
   "cell_type": "code",
   "execution_count": null,
   "metadata": {},
   "outputs": [],
   "source": []
  }
 ],
 "metadata": {
  "colab": {
   "collapsed_sections": [],
   "name": "main.ipynb",
   "provenance": [],
   "version": "0.3.2"
  },
  "kernelspec": {
   "display_name": "Python 3",
   "language": "python",
   "name": "python3"
  },
  "language_info": {
   "codemirror_mode": {
    "name": "ipython",
    "version": 3
   },
   "file_extension": ".py",
   "mimetype": "text/x-python",
   "name": "python",
   "nbconvert_exporter": "python",
   "pygments_lexer": "ipython3",
   "version": "3.6.6"
  }
 },
 "nbformat": 4,
 "nbformat_minor": 1
}
